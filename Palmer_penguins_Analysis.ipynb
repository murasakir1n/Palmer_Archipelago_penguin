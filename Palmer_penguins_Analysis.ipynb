{
 "cells": [
  {
   "cell_type": "code",
   "execution_count": 1,
   "id": "233b75d5-1da6-4cb3-a4c8-9ab905b0b0a9",
   "metadata": {},
   "outputs": [
    {
     "name": "stdout",
     "output_type": "stream",
     "text": [
      "0    MALE\n",
      "Name: sex, dtype: object\n",
      "sex\n",
      "MALE      179\n",
      "FEMALE    165\n",
      "Name: count, dtype: int64\n"
     ]
    }
   ],
   "source": [
    "import pandas as pd  \n",
    "import matplotlib.pyplot as plt \n",
    "import seaborn as sns \n",
    "import sqlalchemy \n",
    "from db_connection import engine"
   ]
  },
  {
   "cell_type": "markdown",
   "id": "adc083f2-365a-4898-bd0b-7777bc5138e2",
   "metadata": {},
   "source": [
    "# Общая информация о дата сете "
   ]
  },
  {
   "cell_type": "code",
   "execution_count": 2,
   "id": "76850b4d-e351-4bb5-84c9-086f937b2e67",
   "metadata": {},
   "outputs": [],
   "source": [
    "dataset_info = 'SELECT * FROM palmer_penguins' \n",
    "df = pd.read_sql(dataset_info, engine)"
   ]
  },
  {
   "cell_type": "code",
   "execution_count": 3,
   "id": "252b96bc-5968-40e7-b935-afae96177f34",
   "metadata": {},
   "outputs": [
    {
     "name": "stdout",
     "output_type": "stream",
     "text": [
      "<class 'pandas.core.frame.DataFrame'>\n",
      "RangeIndex: 344 entries, 0 to 343\n",
      "Data columns (total 16 columns):\n",
      " #   Column               Non-Null Count  Dtype  \n",
      "---  ------               --------------  -----  \n",
      " 0   studyname            344 non-null    object \n",
      " 1   sample_number        344 non-null    int64  \n",
      " 2   species              344 non-null    object \n",
      " 3   region               344 non-null    object \n",
      " 4   island               344 non-null    object \n",
      " 5   stage                344 non-null    object \n",
      " 6   individual_id        344 non-null    object \n",
      " 7   clutch_completion    344 non-null    object \n",
      " 8   date_egg             344 non-null    object \n",
      " 9   culmen_length_(mm)   344 non-null    float64\n",
      " 10  culmen_depth_(mm)    344 non-null    float64\n",
      " 11  flipper_length_(mm)  344 non-null    float64\n",
      " 12  body_mass_(g)        344 non-null    float64\n",
      " 13  sex                  344 non-null    object \n",
      " 14  delta_15_n_(o/oo)    344 non-null    float64\n",
      " 15  delta_13_c_(o/oo)    344 non-null    float64\n",
      "dtypes: float64(6), int64(1), object(9)\n",
      "memory usage: 43.1+ KB\n"
     ]
    }
   ],
   "source": [
    "df.info()"
   ]
  },
  {
   "cell_type": "code",
   "execution_count": 4,
   "id": "da590fa5-b6d2-4783-8f5b-cea17586d906",
   "metadata": {},
   "outputs": [
    {
     "data": {
      "text/html": [
       "<div>\n",
       "<style scoped>\n",
       "    .dataframe tbody tr th:only-of-type {\n",
       "        vertical-align: middle;\n",
       "    }\n",
       "\n",
       "    .dataframe tbody tr th {\n",
       "        vertical-align: top;\n",
       "    }\n",
       "\n",
       "    .dataframe thead th {\n",
       "        text-align: right;\n",
       "    }\n",
       "</style>\n",
       "<table border=\"1\" class=\"dataframe\">\n",
       "  <thead>\n",
       "    <tr style=\"text-align: right;\">\n",
       "      <th></th>\n",
       "      <th>sample_number</th>\n",
       "      <th>culmen_length_(mm)</th>\n",
       "      <th>culmen_depth_(mm)</th>\n",
       "      <th>flipper_length_(mm)</th>\n",
       "      <th>body_mass_(g)</th>\n",
       "      <th>delta_15_n_(o/oo)</th>\n",
       "      <th>delta_13_c_(o/oo)</th>\n",
       "    </tr>\n",
       "  </thead>\n",
       "  <tbody>\n",
       "    <tr>\n",
       "      <th>count</th>\n",
       "      <td>344.000000</td>\n",
       "      <td>344.000000</td>\n",
       "      <td>344.000000</td>\n",
       "      <td>344.000000</td>\n",
       "      <td>344.000000</td>\n",
       "      <td>344.000000</td>\n",
       "      <td>344.000000</td>\n",
       "    </tr>\n",
       "    <tr>\n",
       "      <th>mean</th>\n",
       "      <td>63.151163</td>\n",
       "      <td>43.924709</td>\n",
       "      <td>17.152035</td>\n",
       "      <td>200.892442</td>\n",
       "      <td>4200.872093</td>\n",
       "      <td>8.730086</td>\n",
       "      <td>-25.691855</td>\n",
       "    </tr>\n",
       "    <tr>\n",
       "      <th>std</th>\n",
       "      <td>40.430199</td>\n",
       "      <td>5.443765</td>\n",
       "      <td>1.969060</td>\n",
       "      <td>14.023826</td>\n",
       "      <td>799.696532</td>\n",
       "      <td>0.540630</td>\n",
       "      <td>0.779277</td>\n",
       "    </tr>\n",
       "    <tr>\n",
       "      <th>min</th>\n",
       "      <td>1.000000</td>\n",
       "      <td>32.100000</td>\n",
       "      <td>13.100000</td>\n",
       "      <td>172.000000</td>\n",
       "      <td>2700.000000</td>\n",
       "      <td>7.632200</td>\n",
       "      <td>-27.018540</td>\n",
       "    </tr>\n",
       "    <tr>\n",
       "      <th>25%</th>\n",
       "      <td>29.000000</td>\n",
       "      <td>39.275000</td>\n",
       "      <td>15.600000</td>\n",
       "      <td>190.000000</td>\n",
       "      <td>3550.000000</td>\n",
       "      <td>8.307415</td>\n",
       "      <td>-26.285460</td>\n",
       "    </tr>\n",
       "    <tr>\n",
       "      <th>50%</th>\n",
       "      <td>58.000000</td>\n",
       "      <td>44.400000</td>\n",
       "      <td>17.300000</td>\n",
       "      <td>197.000000</td>\n",
       "      <td>4050.000000</td>\n",
       "      <td>8.652405</td>\n",
       "      <td>-25.833520</td>\n",
       "    </tr>\n",
       "    <tr>\n",
       "      <th>75%</th>\n",
       "      <td>95.250000</td>\n",
       "      <td>48.500000</td>\n",
       "      <td>18.700000</td>\n",
       "      <td>213.000000</td>\n",
       "      <td>4750.000000</td>\n",
       "      <td>9.136170</td>\n",
       "      <td>-25.089467</td>\n",
       "    </tr>\n",
       "    <tr>\n",
       "      <th>max</th>\n",
       "      <td>152.000000</td>\n",
       "      <td>59.600000</td>\n",
       "      <td>21.500000</td>\n",
       "      <td>231.000000</td>\n",
       "      <td>6300.000000</td>\n",
       "      <td>10.025440</td>\n",
       "      <td>-23.787670</td>\n",
       "    </tr>\n",
       "  </tbody>\n",
       "</table>\n",
       "</div>"
      ],
      "text/plain": [
       "       sample_number  culmen_length_(mm)  culmen_depth_(mm)  \\\n",
       "count     344.000000          344.000000         344.000000   \n",
       "mean       63.151163           43.924709          17.152035   \n",
       "std        40.430199            5.443765           1.969060   \n",
       "min         1.000000           32.100000          13.100000   \n",
       "25%        29.000000           39.275000          15.600000   \n",
       "50%        58.000000           44.400000          17.300000   \n",
       "75%        95.250000           48.500000          18.700000   \n",
       "max       152.000000           59.600000          21.500000   \n",
       "\n",
       "       flipper_length_(mm)  body_mass_(g)  delta_15_n_(o/oo)  \\\n",
       "count           344.000000     344.000000         344.000000   \n",
       "mean            200.892442    4200.872093           8.730086   \n",
       "std              14.023826     799.696532           0.540630   \n",
       "min             172.000000    2700.000000           7.632200   \n",
       "25%             190.000000    3550.000000           8.307415   \n",
       "50%             197.000000    4050.000000           8.652405   \n",
       "75%             213.000000    4750.000000           9.136170   \n",
       "max             231.000000    6300.000000          10.025440   \n",
       "\n",
       "       delta_13_c_(o/oo)  \n",
       "count         344.000000  \n",
       "mean          -25.691855  \n",
       "std             0.779277  \n",
       "min           -27.018540  \n",
       "25%           -26.285460  \n",
       "50%           -25.833520  \n",
       "75%           -25.089467  \n",
       "max           -23.787670  "
      ]
     },
     "execution_count": 4,
     "metadata": {},
     "output_type": "execute_result"
    }
   ],
   "source": [
    "df.describe()"
   ]
  },
  {
   "cell_type": "markdown",
   "id": "6ca07d7f-0ddb-462f-8ad6-6bf1222a6858",
   "metadata": {},
   "source": [
    "# Чистка данных\n"
   ]
  },
  {
   "cell_type": "markdown",
   "id": "4c7d83d6-bf43-487b-aa20-e603ca40ffc8",
   "metadata": {},
   "source": [
    "Вся чиста данных была проведена предварительно, перед добавлением в базу данных. Чистка была проведена в файле db_connection.py\n"
   ]
  },
  {
   "cell_type": "markdown",
   "id": "17dfc314-7f86-4e81-b4ff-ca4804b51506",
   "metadata": {},
   "source": [
    "# Описательная статистика"
   ]
  },
  {
   "cell_type": "markdown",
   "id": "eee6fd32-6b85-49ee-8f0e-ef9968343bb1",
   "metadata": {},
   "source": [
    "## Медиана"
   ]
  },
  {
   "cell_type": "code",
   "execution_count": 5,
   "id": "e0ed60bb-18f6-418a-a837-bf53443f9cda",
   "metadata": {},
   "outputs": [],
   "source": [
    "desc_stat = 'SELECT \"culmen_length_(mm)\", \"culmen_depth_(mm)\", \"flipper_length_(mm)\", \"body_mass_(g)\" FROM palmer_penguins'\n",
    "ds_df = pd.read_sql(desc_stat, engine)"
   ]
  },
  {
   "cell_type": "code",
   "execution_count": 6,
   "id": "295b6e75-f869-4b71-b25e-0f4c292cc6d8",
   "metadata": {},
   "outputs": [
    {
     "data": {
      "text/html": [
       "<div>\n",
       "<style scoped>\n",
       "    .dataframe tbody tr th:only-of-type {\n",
       "        vertical-align: middle;\n",
       "    }\n",
       "\n",
       "    .dataframe tbody tr th {\n",
       "        vertical-align: top;\n",
       "    }\n",
       "\n",
       "    .dataframe thead th {\n",
       "        text-align: right;\n",
       "    }\n",
       "</style>\n",
       "<table border=\"1\" class=\"dataframe\">\n",
       "  <thead>\n",
       "    <tr style=\"text-align: right;\">\n",
       "      <th></th>\n",
       "      <th>culmen_length_(mm)</th>\n",
       "      <th>culmen_depth_(mm)</th>\n",
       "      <th>flipper_length_(mm)</th>\n",
       "      <th>body_mass_(g)</th>\n",
       "    </tr>\n",
       "  </thead>\n",
       "  <tbody>\n",
       "    <tr>\n",
       "      <th>0</th>\n",
       "      <td>39.1</td>\n",
       "      <td>18.7</td>\n",
       "      <td>181.0</td>\n",
       "      <td>3750.0</td>\n",
       "    </tr>\n",
       "    <tr>\n",
       "      <th>1</th>\n",
       "      <td>39.5</td>\n",
       "      <td>17.4</td>\n",
       "      <td>186.0</td>\n",
       "      <td>3800.0</td>\n",
       "    </tr>\n",
       "    <tr>\n",
       "      <th>2</th>\n",
       "      <td>40.3</td>\n",
       "      <td>18.0</td>\n",
       "      <td>195.0</td>\n",
       "      <td>3250.0</td>\n",
       "    </tr>\n",
       "    <tr>\n",
       "      <th>3</th>\n",
       "      <td>44.4</td>\n",
       "      <td>17.3</td>\n",
       "      <td>197.0</td>\n",
       "      <td>4050.0</td>\n",
       "    </tr>\n",
       "    <tr>\n",
       "      <th>4</th>\n",
       "      <td>36.7</td>\n",
       "      <td>19.3</td>\n",
       "      <td>193.0</td>\n",
       "      <td>3450.0</td>\n",
       "    </tr>\n",
       "    <tr>\n",
       "      <th>...</th>\n",
       "      <td>...</td>\n",
       "      <td>...</td>\n",
       "      <td>...</td>\n",
       "      <td>...</td>\n",
       "    </tr>\n",
       "    <tr>\n",
       "      <th>339</th>\n",
       "      <td>44.4</td>\n",
       "      <td>17.3</td>\n",
       "      <td>197.0</td>\n",
       "      <td>4050.0</td>\n",
       "    </tr>\n",
       "    <tr>\n",
       "      <th>340</th>\n",
       "      <td>46.8</td>\n",
       "      <td>14.3</td>\n",
       "      <td>215.0</td>\n",
       "      <td>4850.0</td>\n",
       "    </tr>\n",
       "    <tr>\n",
       "      <th>341</th>\n",
       "      <td>50.4</td>\n",
       "      <td>15.7</td>\n",
       "      <td>222.0</td>\n",
       "      <td>5750.0</td>\n",
       "    </tr>\n",
       "    <tr>\n",
       "      <th>342</th>\n",
       "      <td>45.2</td>\n",
       "      <td>14.8</td>\n",
       "      <td>212.0</td>\n",
       "      <td>5200.0</td>\n",
       "    </tr>\n",
       "    <tr>\n",
       "      <th>343</th>\n",
       "      <td>49.9</td>\n",
       "      <td>16.1</td>\n",
       "      <td>213.0</td>\n",
       "      <td>5400.0</td>\n",
       "    </tr>\n",
       "  </tbody>\n",
       "</table>\n",
       "<p>344 rows × 4 columns</p>\n",
       "</div>"
      ],
      "text/plain": [
       "     culmen_length_(mm)  culmen_depth_(mm)  flipper_length_(mm)  body_mass_(g)\n",
       "0                  39.1               18.7                181.0         3750.0\n",
       "1                  39.5               17.4                186.0         3800.0\n",
       "2                  40.3               18.0                195.0         3250.0\n",
       "3                  44.4               17.3                197.0         4050.0\n",
       "4                  36.7               19.3                193.0         3450.0\n",
       "..                  ...                ...                  ...            ...\n",
       "339                44.4               17.3                197.0         4050.0\n",
       "340                46.8               14.3                215.0         4850.0\n",
       "341                50.4               15.7                222.0         5750.0\n",
       "342                45.2               14.8                212.0         5200.0\n",
       "343                49.9               16.1                213.0         5400.0\n",
       "\n",
       "[344 rows x 4 columns]"
      ]
     },
     "execution_count": 6,
     "metadata": {},
     "output_type": "execute_result"
    }
   ],
   "source": [
    "ds_df"
   ]
  },
  {
   "cell_type": "code",
   "execution_count": 7,
   "id": "71939f7e-57ed-4daf-aa26-29adc327a1e9",
   "metadata": {},
   "outputs": [
    {
     "data": {
      "text/html": [
       "<div>\n",
       "<style scoped>\n",
       "    .dataframe tbody tr th:only-of-type {\n",
       "        vertical-align: middle;\n",
       "    }\n",
       "\n",
       "    .dataframe tbody tr th {\n",
       "        vertical-align: top;\n",
       "    }\n",
       "\n",
       "    .dataframe thead th {\n",
       "        text-align: right;\n",
       "    }\n",
       "</style>\n",
       "<table border=\"1\" class=\"dataframe\">\n",
       "  <thead>\n",
       "    <tr style=\"text-align: right;\">\n",
       "      <th></th>\n",
       "      <th>median</th>\n",
       "    </tr>\n",
       "  </thead>\n",
       "  <tbody>\n",
       "    <tr>\n",
       "      <th>culmen_length_(mm)</th>\n",
       "      <td>44.4</td>\n",
       "    </tr>\n",
       "    <tr>\n",
       "      <th>culmen_depth_(mm)</th>\n",
       "      <td>17.3</td>\n",
       "    </tr>\n",
       "    <tr>\n",
       "      <th>flipper_length_(mm)</th>\n",
       "      <td>197.0</td>\n",
       "    </tr>\n",
       "    <tr>\n",
       "      <th>body_mass_(g)</th>\n",
       "      <td>4050.0</td>\n",
       "    </tr>\n",
       "  </tbody>\n",
       "</table>\n",
       "</div>"
      ],
      "text/plain": [
       "                     median\n",
       "culmen_length_(mm)     44.4\n",
       "culmen_depth_(mm)      17.3\n",
       "flipper_length_(mm)   197.0\n",
       "body_mass_(g)        4050.0"
      ]
     },
     "execution_count": 7,
     "metadata": {},
     "output_type": "execute_result"
    }
   ],
   "source": [
    "ds_df.median().to_frame(name='median')"
   ]
  },
  {
   "cell_type": "markdown",
   "id": "bfa41f39-1bca-4c23-8aa2-4c3fcef1e139",
   "metadata": {},
   "source": [
    "## Дисперсия "
   ]
  },
  {
   "cell_type": "code",
   "execution_count": 8,
   "id": "5d92448e-a62d-4b1e-93e6-c01b5acaea88",
   "metadata": {},
   "outputs": [
    {
     "data": {
      "text/html": [
       "<div>\n",
       "<style scoped>\n",
       "    .dataframe tbody tr th:only-of-type {\n",
       "        vertical-align: middle;\n",
       "    }\n",
       "\n",
       "    .dataframe tbody tr th {\n",
       "        vertical-align: top;\n",
       "    }\n",
       "\n",
       "    .dataframe thead th {\n",
       "        text-align: right;\n",
       "    }\n",
       "</style>\n",
       "<table border=\"1\" class=\"dataframe\">\n",
       "  <thead>\n",
       "    <tr style=\"text-align: right;\">\n",
       "      <th></th>\n",
       "      <th>var</th>\n",
       "    </tr>\n",
       "  </thead>\n",
       "  <tbody>\n",
       "    <tr>\n",
       "      <th>culmen_length_(mm)</th>\n",
       "      <td>29.634577</td>\n",
       "    </tr>\n",
       "    <tr>\n",
       "      <th>culmen_depth_(mm)</th>\n",
       "      <td>3.877197</td>\n",
       "    </tr>\n",
       "    <tr>\n",
       "      <th>flipper_length_(mm)</th>\n",
       "      <td>196.667698</td>\n",
       "    </tr>\n",
       "    <tr>\n",
       "      <th>body_mass_(g)</th>\n",
       "      <td>639514.543359</td>\n",
       "    </tr>\n",
       "  </tbody>\n",
       "</table>\n",
       "</div>"
      ],
      "text/plain": [
       "                               var\n",
       "culmen_length_(mm)       29.634577\n",
       "culmen_depth_(mm)         3.877197\n",
       "flipper_length_(mm)     196.667698\n",
       "body_mass_(g)        639514.543359"
      ]
     },
     "execution_count": 8,
     "metadata": {},
     "output_type": "execute_result"
    }
   ],
   "source": [
    "ds_df.var().to_frame(name='var')"
   ]
  },
  {
   "cell_type": "markdown",
   "id": "e69b5251-f5ae-45d6-bfd5-e54051d90b78",
   "metadata": {},
   "source": [
    "## Стандартное отклонение "
   ]
  },
  {
   "cell_type": "code",
   "execution_count": 9,
   "id": "896ecb76-e63b-496c-9609-b6c6e0053600",
   "metadata": {},
   "outputs": [
    {
     "data": {
      "text/html": [
       "<div>\n",
       "<style scoped>\n",
       "    .dataframe tbody tr th:only-of-type {\n",
       "        vertical-align: middle;\n",
       "    }\n",
       "\n",
       "    .dataframe tbody tr th {\n",
       "        vertical-align: top;\n",
       "    }\n",
       "\n",
       "    .dataframe thead th {\n",
       "        text-align: right;\n",
       "    }\n",
       "</style>\n",
       "<table border=\"1\" class=\"dataframe\">\n",
       "  <thead>\n",
       "    <tr style=\"text-align: right;\">\n",
       "      <th></th>\n",
       "      <th>std</th>\n",
       "    </tr>\n",
       "  </thead>\n",
       "  <tbody>\n",
       "    <tr>\n",
       "      <th>culmen_length_(mm)</th>\n",
       "      <td>5.443765</td>\n",
       "    </tr>\n",
       "    <tr>\n",
       "      <th>culmen_depth_(mm)</th>\n",
       "      <td>1.969060</td>\n",
       "    </tr>\n",
       "    <tr>\n",
       "      <th>flipper_length_(mm)</th>\n",
       "      <td>14.023826</td>\n",
       "    </tr>\n",
       "    <tr>\n",
       "      <th>body_mass_(g)</th>\n",
       "      <td>799.696532</td>\n",
       "    </tr>\n",
       "  </tbody>\n",
       "</table>\n",
       "</div>"
      ],
      "text/plain": [
       "                            std\n",
       "culmen_length_(mm)     5.443765\n",
       "culmen_depth_(mm)      1.969060\n",
       "flipper_length_(mm)   14.023826\n",
       "body_mass_(g)        799.696532"
      ]
     },
     "execution_count": 9,
     "metadata": {},
     "output_type": "execute_result"
    }
   ],
   "source": [
    "ds_df.std().to_frame(name='std')"
   ]
  },
  {
   "cell_type": "markdown",
   "id": "ea24ed79-9917-45ed-adf9-0a72a0eb3fd8",
   "metadata": {},
   "source": [
    "# Категориальные признаки"
   ]
  },
  {
   "cell_type": "markdown",
   "id": "585b34e4-0258-4e79-aa4c-f125ee51c265",
   "metadata": {},
   "source": [
    "## Половые различичия"
   ]
  },
  {
   "cell_type": "code",
   "execution_count": 10,
   "id": "17d02dc3-97d0-435f-bd73-33f5d376eb97",
   "metadata": {},
   "outputs": [
    {
     "data": {
      "text/html": [
       "<div>\n",
       "<style scoped>\n",
       "    .dataframe tbody tr th:only-of-type {\n",
       "        vertical-align: middle;\n",
       "    }\n",
       "\n",
       "    .dataframe tbody tr th {\n",
       "        vertical-align: top;\n",
       "    }\n",
       "\n",
       "    .dataframe thead th {\n",
       "        text-align: right;\n",
       "    }\n",
       "</style>\n",
       "<table border=\"1\" class=\"dataframe\">\n",
       "  <thead>\n",
       "    <tr style=\"text-align: right;\">\n",
       "      <th></th>\n",
       "      <th>culmen_length_(mm)</th>\n",
       "      <th>culmen_depth_(mm)</th>\n",
       "      <th>flipper_length_(mm)</th>\n",
       "      <th>body_mass_(g)</th>\n",
       "    </tr>\n",
       "    <tr>\n",
       "      <th>sex</th>\n",
       "      <th></th>\n",
       "      <th></th>\n",
       "      <th></th>\n",
       "      <th></th>\n",
       "    </tr>\n",
       "  </thead>\n",
       "  <tbody>\n",
       "    <tr>\n",
       "      <th>FEMALE</th>\n",
       "      <td>42.8</td>\n",
       "      <td>17.0</td>\n",
       "      <td>193.0</td>\n",
       "      <td>3650.0</td>\n",
       "    </tr>\n",
       "    <tr>\n",
       "      <th>MALE</th>\n",
       "      <td>46.2</td>\n",
       "      <td>18.3</td>\n",
       "      <td>200.0</td>\n",
       "      <td>4300.0</td>\n",
       "    </tr>\n",
       "  </tbody>\n",
       "</table>\n",
       "</div>"
      ],
      "text/plain": [
       "        culmen_length_(mm)  culmen_depth_(mm)  flipper_length_(mm)  \\\n",
       "sex                                                                  \n",
       "FEMALE                42.8               17.0                193.0   \n",
       "MALE                  46.2               18.3                200.0   \n",
       "\n",
       "        body_mass_(g)  \n",
       "sex                    \n",
       "FEMALE         3650.0  \n",
       "MALE           4300.0  "
      ]
     },
     "execution_count": 10,
     "metadata": {},
     "output_type": "execute_result"
    }
   ],
   "source": [
    "sex_diff = 'SELECT sex, \"culmen_length_(mm)\", \"culmen_depth_(mm)\", \"flipper_length_(mm)\", \"body_mass_(g)\" FROM palmer_penguins'\n",
    "sex_diff_df = pd.read_sql(sex_diff, engine)\n",
    "\n",
    "sex_diff_df.groupby('sex')[['culmen_length_(mm)', 'culmen_depth_(mm)', 'flipper_length_(mm)', 'body_mass_(g)']].median()"
   ]
  },
  {
   "cell_type": "markdown",
   "id": "f15f57fe-839e-41ff-ace9-2bead4e4517a",
   "metadata": {},
   "source": [
    "## Виды пингвинов"
   ]
  },
  {
   "cell_type": "markdown",
   "id": "872169ec-7a09-4c04-b1ec-b02fc47c8d54",
   "metadata": {},
   "source": [
    "### Уникальные виды пингвинов \n"
   ]
  },
  {
   "cell_type": "code",
   "execution_count": 11,
   "id": "bdccd955-bde7-47a8-b9dd-4274c5f8131b",
   "metadata": {},
   "outputs": [
    {
     "data": {
      "text/plain": [
       "array(['Adelie Penguin (Pygoscelis adeliae)',\n",
       "       'Chinstrap penguin (Pygoscelis antarctica)',\n",
       "       'Gentoo penguin (Pygoscelis papua)'], dtype=object)"
      ]
     },
     "execution_count": 11,
     "metadata": {},
     "output_type": "execute_result"
    }
   ],
   "source": [
    "species = 'SELECT species FROM palmer_penguins'\n",
    "species_df = pd.read_sql(species, engine)\n",
    "\n",
    "species_df['species'].unique()"
   ]
  },
  {
   "cell_type": "markdown",
   "id": "d54f7cdc-482d-4a65-b3a3-8117d87195cb",
   "metadata": {},
   "source": [
    "### Распределение по островам"
   ]
  },
  {
   "cell_type": "markdown",
   "id": "79cb7b84-d06b-420c-a292-a9a9658ea559",
   "metadata": {},
   "source": [
    "#### Общее количество"
   ]
  },
  {
   "cell_type": "code",
   "execution_count": 12,
   "id": "2af4132c-bc1f-441f-a8c9-d055f9e99d65",
   "metadata": {},
   "outputs": [
    {
     "data": {
      "text/plain": [
       "island\n",
       "Biscoe       168\n",
       "Dream        124\n",
       "Torgersen     52\n",
       "Name: species, dtype: int64"
      ]
     },
     "execution_count": 12,
     "metadata": {},
     "output_type": "execute_result"
    }
   ],
   "source": [
    "spec_dist = 'SELECT island, species FROM palmer_penguins'\n",
    "spec_dist_df = pd.read_sql(spec_dist, engine)\n",
    "\n",
    "spec_dist_df.groupby('island')['species'].count()"
   ]
  },
  {
   "cell_type": "markdown",
   "id": "c256bf72-8104-425d-9774-0a056de21bcd",
   "metadata": {},
   "source": [
    "#### Количество по видам"
   ]
  },
  {
   "cell_type": "code",
   "execution_count": 13,
   "id": "9f4bdb1d-8c65-47e0-a3a4-3a0e8a381cec",
   "metadata": {},
   "outputs": [
    {
     "data": {
      "text/plain": [
       "island     species                                  \n",
       "Biscoe     Gentoo penguin (Pygoscelis papua)            124\n",
       "           Adelie Penguin (Pygoscelis adeliae)           44\n",
       "Dream      Chinstrap penguin (Pygoscelis antarctica)     68\n",
       "           Adelie Penguin (Pygoscelis adeliae)           56\n",
       "Torgersen  Adelie Penguin (Pygoscelis adeliae)           52\n",
       "Name: count, dtype: int64"
      ]
     },
     "execution_count": 13,
     "metadata": {},
     "output_type": "execute_result"
    }
   ],
   "source": [
    "spec_dist_df.groupby('island')['species'].value_counts()"
   ]
  },
  {
   "cell_type": "markdown",
   "id": "164cdf53-bb46-46db-bd67-7e63607d0e33",
   "metadata": {},
   "source": [
    "### Морфологическая разница между видами "
   ]
  },
  {
   "cell_type": "code",
   "execution_count": 14,
   "id": "478c6cb4-624e-4453-a24c-81889996c865",
   "metadata": {},
   "outputs": [
    {
     "data": {
      "text/html": [
       "<div>\n",
       "<style scoped>\n",
       "    .dataframe tbody tr th:only-of-type {\n",
       "        vertical-align: middle;\n",
       "    }\n",
       "\n",
       "    .dataframe tbody tr th {\n",
       "        vertical-align: top;\n",
       "    }\n",
       "\n",
       "    .dataframe thead th {\n",
       "        text-align: right;\n",
       "    }\n",
       "</style>\n",
       "<table border=\"1\" class=\"dataframe\">\n",
       "  <thead>\n",
       "    <tr style=\"text-align: right;\">\n",
       "      <th></th>\n",
       "      <th>culmen_length_(mm)</th>\n",
       "      <th>culmen_depth_(mm)</th>\n",
       "      <th>flipper_length_(mm)</th>\n",
       "      <th>body_mass_(g)</th>\n",
       "    </tr>\n",
       "    <tr>\n",
       "      <th>species</th>\n",
       "      <th></th>\n",
       "      <th></th>\n",
       "      <th></th>\n",
       "      <th></th>\n",
       "    </tr>\n",
       "  </thead>\n",
       "  <tbody>\n",
       "    <tr>\n",
       "      <th>Adelie Penguin (Pygoscelis adeliae)</th>\n",
       "      <td>38.80</td>\n",
       "      <td>18.40</td>\n",
       "      <td>190.0</td>\n",
       "      <td>3700.0</td>\n",
       "    </tr>\n",
       "    <tr>\n",
       "      <th>Chinstrap penguin (Pygoscelis antarctica)</th>\n",
       "      <td>49.55</td>\n",
       "      <td>18.45</td>\n",
       "      <td>196.0</td>\n",
       "      <td>3700.0</td>\n",
       "    </tr>\n",
       "    <tr>\n",
       "      <th>Gentoo penguin (Pygoscelis papua)</th>\n",
       "      <td>47.25</td>\n",
       "      <td>15.00</td>\n",
       "      <td>216.0</td>\n",
       "      <td>5000.0</td>\n",
       "    </tr>\n",
       "  </tbody>\n",
       "</table>\n",
       "</div>"
      ],
      "text/plain": [
       "                                           culmen_length_(mm)  \\\n",
       "species                                                         \n",
       "Adelie Penguin (Pygoscelis adeliae)                     38.80   \n",
       "Chinstrap penguin (Pygoscelis antarctica)               49.55   \n",
       "Gentoo penguin (Pygoscelis papua)                       47.25   \n",
       "\n",
       "                                           culmen_depth_(mm)  \\\n",
       "species                                                        \n",
       "Adelie Penguin (Pygoscelis adeliae)                    18.40   \n",
       "Chinstrap penguin (Pygoscelis antarctica)              18.45   \n",
       "Gentoo penguin (Pygoscelis papua)                      15.00   \n",
       "\n",
       "                                           flipper_length_(mm)  body_mass_(g)  \n",
       "species                                                                        \n",
       "Adelie Penguin (Pygoscelis adeliae)                      190.0         3700.0  \n",
       "Chinstrap penguin (Pygoscelis antarctica)                196.0         3700.0  \n",
       "Gentoo penguin (Pygoscelis papua)                        216.0         5000.0  "
      ]
     },
     "execution_count": 14,
     "metadata": {},
     "output_type": "execute_result"
    }
   ],
   "source": [
    "spec_diff = 'SELECT species, \"culmen_length_(mm)\", \"culmen_depth_(mm)\", \"flipper_length_(mm)\", \"body_mass_(g)\" FROM palmer_penguins'\n",
    "spec_diff_df = pd.read_sql(spec_diff, engine)\n",
    "\n",
    "spec_diff_df.groupby('species')[['culmen_length_(mm)', 'culmen_depth_(mm)', 'flipper_length_(mm)', 'body_mass_(g)']].median()"
   ]
  },
  {
   "cell_type": "markdown",
   "id": "02f9f3d8-35d7-41da-81ca-72eb7a1022ca",
   "metadata": {},
   "source": [
    "### Трофический уровень (δ¹⁵N)"
   ]
  },
  {
   "cell_type": "code",
   "execution_count": 15,
   "id": "45ac1cb9-0d9e-4fb5-ae3a-e0872b07d3ff",
   "metadata": {},
   "outputs": [
    {
     "data": {
      "text/plain": [
       "species\n",
       "Adelie Penguin (Pygoscelis adeliae)          8.850065\n",
       "Chinstrap penguin (Pygoscelis antarctica)    9.370840\n",
       "Gentoo penguin (Pygoscelis papua)            8.256790\n",
       "Name: delta_15_n_(o/oo), dtype: float64"
      ]
     },
     "execution_count": 15,
     "metadata": {},
     "output_type": "execute_result"
    }
   ],
   "source": [
    "delta_15 = 'SELECT species, \"delta_15_n_(o/oo)\" FROM palmer_penguins'\n",
    "delta_15_df = pd.read_sql(delta_15, engine)\n",
    "\n",
    "delta_15_df.groupby('species')['delta_15_n_(o/oo)'].median()"
   ]
  },
  {
   "cell_type": "markdown",
   "id": "7585351a-cf0d-4eb2-87a1-74bbc4329aed",
   "metadata": {},
   "source": [
    "По этим данным становится понятно, что все виды находятся примерно на одном трофическом уровне"
   ]
  },
  {
   "cell_type": "code",
   "execution_count": null,
   "id": "5c82499b-402b-4ac8-baf9-95decc41b868",
   "metadata": {},
   "outputs": [],
   "source": []
  },
  {
   "cell_type": "markdown",
   "id": "897a664d-11dd-403b-b0ff-396132047d3f",
   "metadata": {},
   "source": [
    "## Географические особенности"
   ]
  },
  {
   "cell_type": "markdown",
   "id": "2c7b495a-6bb8-4f5b-a23f-e3c7fbca7c29",
   "metadata": {},
   "source": [
    "### На каком острове лучше кладка яиц"
   ]
  },
  {
   "cell_type": "code",
   "execution_count": 16,
   "id": "fb5947c2-26d5-4cfe-ba65-9439071a99ab",
   "metadata": {},
   "outputs": [
    {
     "data": {
      "text/plain": [
       "Text(0, 0.5, 'Количество')"
      ]
     },
     "execution_count": 16,
     "metadata": {},
     "output_type": "execute_result"
    },
    {
     "data": {
      "image/png": "[encoded data removed]",
      "text/plain": [
       "<Figure size 1300x800 with 1 Axes>"
      ]
     },
     "metadata": {},
     "output_type": "display_data"
    }
   ],
   "source": [
    "island_clutch = 'SELECT island, clutch_completion FROM palmer_penguins'\n",
    "isl_cltch_df = pd.read_sql(island_clutch, engine)\n",
    " \n",
    "\n",
    "plt.figure(figsize = (13,8))\n",
    "sns.countplot(data = isl_cltch_df, x = 'island', hue = 'clutch_completion')\n",
    "plt.title('Острова по успешности кладок яиц')\n",
    "plt.xlabel('Остров')\n",
    "plt.ylabel('Количество')"
   ]
  },
  {
   "cell_type": "markdown",
   "id": "09e432ad-032c-4d89-9c59-5fbba19d65d6",
   "metadata": {},
   "source": [
    "### Проведя небольшой речерч, нашел некоторые инсайты: \n",
    "- Остров Biscoe является самым большим по площади (478.38 км²), что означает больше ресурсов -> ожидаемый высокий результат\n",
    "- Остров Torgersen меньше по площади (305 км²), но имеет самый низкий показатель. Аномалия, что может говорить о маленьком количестве ресурсов, пищи или экологические факторы (хищники, другие виды животных)\n",
    "- Остров Dream очень маленкий (0.7 км²), но показатели гораздо выше, чем чем у Torgersen, что может говорить о качестве окружающей среды, доступности пищи, отсутсвие конкуренции\n"
   ]
  },
  {
   "cell_type": "markdown",
   "id": "c61b16aa-0139-48ff-83b1-7ed7c9be5cc8",
   "metadata": {},
   "source": [
    "### Острова по средней массе тела "
   ]
  },
  {
   "cell_type": "code",
   "execution_count": 17,
   "id": "3ed58311-6eb6-48f2-99cc-e300a0e84750",
   "metadata": {},
   "outputs": [
    {
     "data": {
      "text/plain": [
       "Text(0, 0.5, 'Масса')"
      ]
     },
     "execution_count": 17,
     "metadata": {},
     "output_type": "execute_result"
    },
    {
     "data": {
      "image/png": "[encoded data removed]",
      "text/plain": [
       "<Figure size 1300x800 with 1 Axes>"
      ]
     },
     "metadata": {},
     "output_type": "display_data"
    }
   ],
   "source": [
    "island_mass = 'SELECT island, \"body_mass_(g)\" FROM palmer_penguins'\n",
    "island_mass_df = pd.read_sql(island_mass, engine)\n",
    "mass_grby = island_mass_df.groupby('island')['body_mass_(g)'].median()\n",
    "\n",
    "plt.figure(figsize = (13,8))\n",
    "plt.bar(x = mass_grby.index, height = mass_grby.values, color = 'lightblue')\n",
    "plt.title('Острова по средней массе тела')\n",
    "plt.xlabel('Остров')\n",
    "plt.ylabel('Масса')"
   ]
  },
  {
   "cell_type": "markdown",
   "id": "01e0f6ad-a567-4ccf-af4b-c48751667141",
   "metadata": {},
   "source": [
    "### Перевес на осторве Biscoe\n",
    "Необходимо проверить количество самих пингвинов, что бы посмотреть, перевес из-за количества или все таки влияет остров \n"
   ]
  },
  {
   "cell_type": "code",
   "execution_count": 18,
   "id": "b36bb53a-86b6-4668-9874-b25daa3f4125",
   "metadata": {},
   "outputs": [
    {
     "data": {
      "text/plain": [
       "island\n",
       "Biscoe       168\n",
       "Dream        124\n",
       "Torgersen     52\n",
       "Name: count, dtype: int64"
      ]
     },
     "execution_count": 18,
     "metadata": {},
     "output_type": "execute_result"
    }
   ],
   "source": [
    "island_mass_df['island'].value_counts()"
   ]
  },
  {
   "cell_type": "markdown",
   "id": "98cb5231-8bf1-41ed-82b6-0f8774f11bb4",
   "metadata": {},
   "source": [
    "### Почему лидирует остров Biscoe\n",
    "<!-- теперь видно, что на острове Torgersen меньше всего, но даже при этом условии почти одинаковые данные с осторов Dream, хотя перевес почти в 2.5 раза -->\n",
    "Как видно из раздела \"Распределение по островам\" и \"Морфологическая разница между видами\", только на этом острове есть вид Gentoo penguin (Pygoscelis papua), который обладает самой высокой средней массой тела."
   ]
  },
  {
   "cell_type": "markdown",
   "id": "2fd8b159-fde0-45bc-a4b2-6d059c0a3d62",
   "metadata": {},
   "source": [
    "## Связь между морфологией и кладкой яиц\n"
   ]
  },
  {
   "cell_type": "code",
   "execution_count": 19,
   "id": "99275ac6-f25f-48eb-b9e6-1356fca25927",
   "metadata": {},
   "outputs": [
    {
     "data": {
      "text/plain": [
       "Text(0.5, 1.0, 'Успешность кладки по массе тела')"
      ]
     },
     "execution_count": 19,
     "metadata": {},
     "output_type": "execute_result"
    },
    {
     "data": {
      "image/png": "[encoded data removed]",
      "text/plain": [
       "<Figure size 1200x1000 with 4 Axes>"
      ]
     },
     "metadata": {},
     "output_type": "display_data"
    }
   ],
   "source": [
    "culmen_clutch = 'SELECT clutch_completion, \"culmen_length_(mm)\", \"culmen_depth_(mm)\", \"flipper_length_(mm)\", \"body_mass_(g)\" FROM palmer_penguins'\n",
    "culmen_clutch_df = pd.read_sql(culmen_clutch, engine)\n",
    "\n",
    "fig, axes = plt.subplots(nrows = 2, ncols = 2, figsize = (12, 10))\n",
    "\n",
    "sns.barplot(data = culmen_clutch_df,\n",
    "           x = 'clutch_completion', \n",
    "           y = 'culmen_length_(mm)',\n",
    "           estimator = 'median',\n",
    "            ax = axes[0,0]).set_title('Успешность кладки по длинне клюва')\n",
    "\n",
    "sns.barplot(data = culmen_clutch_df,\n",
    "           x = 'clutch_completion', \n",
    "           y = 'culmen_depth_(mm)',\n",
    "           estimator = 'median',\n",
    "            ax = axes[0,1]).set_title('Успешность кладки по глубине клюва')\n",
    "\n",
    "sns.barplot(data = culmen_clutch_df,\n",
    "           x = 'clutch_completion', \n",
    "           y = 'flipper_length_(mm)',\n",
    "           estimator = 'median',\n",
    "            ax = axes[1,0]).set_title('Успешность кладки по длинне плавника')\n",
    "\n",
    "sns.barplot(data = culmen_clutch_df,\n",
    "           x = 'clutch_completion', \n",
    "           y = 'body_mass_(g)',\n",
    "           estimator = 'median',\n",
    "            ax = axes[1,1]).set_title('Успешность кладки по массе тела')"
   ]
  },
  {
   "cell_type": "markdown",
   "id": "c25358aa-7484-4512-aed2-d6b4643fc54e",
   "metadata": {},
   "source": [
    "### Данное сравнение морфологии пингвинов (длинна, глубина клюва, длинна крыльев, масса тела) не показало заметных различий. \n",
    "Это указывает на то, физиологические показатели не влияют на успешность кладки. На ее успешность, скорее всего, влияют другие факторы, такие, как условия среды, разнообразие и доступность пищи."
   ]
  },
  {
   "cell_type": "markdown",
   "id": "c67c307e-de7c-445e-9f8b-90f241549531",
   "metadata": {},
   "source": [
    "# Выводы \n"
   ]
  },
  {
   "cell_type": "markdown",
   "id": "b5f13e34-196f-4a95-831b-d1d23636bdcd",
   "metadata": {},
   "source": [
    "## Общая структура данных\n",
    "- В данном сете данных 16 колонок и 344 строки. Была удалена колонка Comments, все названия колонок были приведены к нижнему регистру, все пропуски в колонке sex были заполнены на моду данной колонки."
   ]
  },
  {
   "cell_type": "markdown",
   "id": "92a296c8-a7b0-4b2e-a714-031e6e0418ca",
   "metadata": {},
   "source": [
    "## Ключевые наблюдения "
   ]
  },
  {
   "cell_type": "markdown",
   "id": "3d417115-10d9-46a5-bd8a-d6a2f32e13fa",
   "metadata": {},
   "source": [
    "- Масса тела ожидаемо различается между полами, самцы крупнее и тяжелее самок, также между видами пингвинов.\n",
    "- Остров Biscoe является лидером по населению и успешностью кладки.\n",
    "    "
   ]
  },
  {
   "cell_type": "markdown",
   "id": "ac0321f8-4846-42ce-af02-5f63ca940275",
   "metadata": {},
   "source": [
    "## Необнаруженные зависимости"
   ]
  },
  {
   "cell_type": "markdown",
   "id": "acdf96c8-71ad-4994-8ebd-4250cacd5b44",
   "metadata": {},
   "source": [
    "- Проверялась зависимость успешности кладки от морфологических показателей, но зависимости не выявлено."
   ]
  },
  {
   "cell_type": "markdown",
   "id": "9000a568-c575-4b4a-be48-bed0790bbbde",
   "metadata": {},
   "source": [
    "## Географические инсайты "
   ]
  },
  {
   "cell_type": "markdown",
   "id": "b84fddea-ace9-4578-8a81-321a974345c5",
   "metadata": {},
   "source": [
    "- Остров Biscoe, вероятно, имеет больше ресурсов и благоприятные экологические факторы, которые и делают этот остров наилучшим среди всех.\n",
    "- Остров Torgersen является худшим среди всех, маленькое население, плохой уровень кладки, вероятно, наихудшее качество экологии, недостаток ресурсов.\n",
    "- Остров Dream показал, что площадь не является главным показателем, при маленькой площади, насление острова гораздо выше, чем у Torgersen, показывая на вероятное, высокий уровень экологии, достаток ресурсов.\n",
    "\n",
    "Все это наталкивает на следующие выводы:\n",
    "- Размер территории не гарантирует успешность размножения. Большее влияние имеет доступность пищи и экологические условия."
   ]
  },
  {
   "cell_type": "markdown",
   "id": "de93d385-fba7-437e-b9f6-cb3c7410332d",
   "metadata": {},
   "source": [
    "## Заключение"
   ]
  },
  {
   "cell_type": "markdown",
   "id": "2f0168b3-04d8-4ddf-91c6-a59e2829fdeb",
   "metadata": {},
   "source": [
    "Данный анализ помог понять, что экологические факторы оказывают куда большее влияние, чем морфология или площадь острова. Проект показал, что при работе с биологическими данными важно учитывать не только числовые показатели, но и реальные условия среды, в которых живут животные, поэтому важно проводить ресерч, выясняя реальные данные, не опираясь исключительно на числовые данные дата сета. "
   ]
  },
  {
   "cell_type": "code",
   "execution_count": null,
   "id": "4bbaf0e5-f7be-4354-a732-7defdd7a15f9",
   "metadata": {},
   "outputs": [],
   "source": []
  }
 ],
 "metadata": {
  "kernelspec": {
   "display_name": "Python 3 (ipykernel)",
   "language": "python",
   "name": "python3"
  },
  "language_info": {
   "codemirror_mode": {
    "name": "ipython",
    "version": 3
   },
   "file_extension": ".py",
   "mimetype": "text/x-python",
   "name": "python",
   "nbconvert_exporter": "python",
   "pygments_lexer": "ipython3",
   "version": "3.12.6"
  }
 },
 "nbformat": 4,
 "nbformat_minor": 5
}
